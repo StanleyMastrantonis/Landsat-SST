{
 "cells": [
  {
   "cell_type": "raw",
   "id": "de6d3e39-3405-4c53-969b-024c37405e89",
   "metadata": {},
   "source": [
    "---\n",
    "title: Landsat SST\n",
    "execute:\n",
    "  echo: true\n",
    "author: Stanley Mastrantonis &\n",
    "bibliography: references.bib\n",
    "csl: nature.csl\n",
    "format:\n",
    "  html:\n",
    "    toc: true\n",
    "    code-fold: true\n",
    "    self-contained: true\n",
    "    theme: paper\n",
    "---"
   ]
  },
  {
   "cell_type": "markdown",
   "id": "7ceee93e-4bc4-4b91-bbaa-657bebb11519",
   "metadata": {},
   "source": [
    "## Summary\n",
    "\n",
    "## Library and modules"
   ]
  },
  {
   "cell_type": "code",
   "execution_count": null,
   "id": "65fced24-a86c-4959-aeed-4af0d5e3ee1e",
   "metadata": {},
   "outputs": [],
   "source": [
    "import numpy as np, pandas as pd, geopandas as gpd, sklearn.metrics as metrics\n",
    "import geemap, ee , rasterio, sankee, warnings, pickle\n",
    "from rasterio.plot import show\n",
    "from geopandas import GeoDataFrame\n",
    "from osgeo import gdal, osr, gdalconst\n",
    "import os, glob, subprocess\n",
    "import rasterio\n",
    "import matplotlib as mpl\n",
    "import matplotlib.pyplot as plt, plotly.express as px\n",
    "from geemap import ml\n",
    "from sklearn import ensemble\n",
    "from sklearn.cluster import DBSCAN, AgglomerativeClustering\n",
    "from scipy import stats\n",
    "from scipy.cluster.hierarchy import dendrogram, linkage\n",
    "from shapely.geometry import Polygon, Point\n",
    "from sklearn.metrics import confusion_matrix, cohen_kappa_score\n",
    "warnings.filterwarnings('ignore')"
   ]
  },
  {
   "cell_type": "markdown",
   "id": "17c912bf-1799-4236-8917-ac275e53b394",
   "metadata": {},
   "source": [
    "### Earth Engine log in"
   ]
  },
  {
   "cell_type": "code",
   "execution_count": null,
   "id": "854ac06b-f3ae-49c0-b0ad-cd0d9704daa1",
   "metadata": {},
   "outputs": [],
   "source": [
    "#ee.Authenticate()\n",
    "ee.Initialize()"
   ]
  },
  {
   "cell_type": "code",
   "execution_count": 2,
   "id": "0ada9df6-0504-4029-96c3-e630e287ac11",
   "metadata": {},
   "outputs": [],
   "source": [
    "#Bit Attribute\n",
    "#- 0 Fill\n",
    "#- 1 Clear\n",
    "#- 2 Water\n",
    "#- 3 Cloud Shadow\n",
    "#- 4 Snow\n",
    "#- 5 Cloud\n",
    "#- 6-7 Cloud Confidence (00 = None, 01 = Low, 10 = Medium, 11 = High)\n",
    "#- 8-9 Cirrus Confidence (00 = None, 01 = Low, 10 = Medium, 11 = High)\n",
    "#- 10 Terrain Occlusion\n",
    "\n",
    "def maskL8clouds(image):\n",
    "    cloud_mask = image.select('QA_PIXEL').bitwiseAnd(int('11111', 3)).eq(0) \n",
    "    snow_mask  =  image.select('QA_PIXEL').bitwiseAnd(int('11111', 4)).eq(0)\n",
    "    shadow_mask = image.select('QA_PIXEL').bitwiseAnd(int('11111', 5)).eq(0)\n",
    "\n",
    "    opticalBands = image.select('B.').multiply(0.0001)\n",
    "    return (image.addBands(opticalBands, None, True) \n",
    "                .updateMask(cloud_mask)  \n",
    "                .updateMask(snow_mask) \n",
    "                .updateMask(shadow_mask)  \n",
    "           )\n"
   ]
  },
  {
   "cell_type": "code",
   "execution_count": null,
   "id": "7581ea42-3c26-4188-a7b5-a1c24a625f6a",
   "metadata": {},
   "outputs": [],
   "source": []
  },
  {
   "cell_type": "code",
   "execution_count": null,
   "id": "6f39fbc1-31c9-49c1-9cba-7dfd6fa6ba8b",
   "metadata": {},
   "outputs": [],
   "source": [
    "\n",
    "L8 = (\n",
    "    ee.ImageCollection('COPERNICUS/S2_SR')\n",
    "    .filterBounds(coastal_waters)\n",
    "    .filterMetadata('CLOUD_COVER', 'less_than', 10)\n",
    "    .filterDate(start_date, end_date)\n",
    "    .map(maskL8clouds)\n",
    ")"
   ]
  }
 ],
 "metadata": {
  "kernelspec": {
   "display_name": "Python 3 (ipykernel)",
   "language": "python",
   "name": "python3"
  },
  "language_info": {
   "codemirror_mode": {
    "name": "ipython",
    "version": 3
   },
   "file_extension": ".py",
   "mimetype": "text/x-python",
   "name": "python",
   "nbconvert_exporter": "python",
   "pygments_lexer": "ipython3",
   "version": "3.9.12"
  }
 },
 "nbformat": 4,
 "nbformat_minor": 5
}
